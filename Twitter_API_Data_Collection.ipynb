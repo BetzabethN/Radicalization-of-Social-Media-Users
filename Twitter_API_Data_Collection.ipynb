{
  "nbformat": 4,
  "nbformat_minor": 0,
  "metadata": {
    "colab": {
      "name": "Twitter API Data Collection",
      "provenance": [],
      "collapsed_sections": []
    },
    "kernelspec": {
      "name": "python3",
      "display_name": "Python 3"
    },
    "language_info": {
      "name": "python"
    }
  },
  "cells": [
    {
      "cell_type": "code",
      "metadata": {
        "id": "QvOR1pyjH7cT"
      },
      "source": [
        "# import libraries\n",
        "import tweepy\n",
        "import json\n",
        "import pandas as pd\n",
        "import csv\n",
        "import os"
      ],
      "execution_count": null,
      "outputs": []
    },
    {
      "cell_type": "code",
      "metadata": {
        "id": "l_oe_ZAqJdKh"
      },
      "source": [
        "# authorizations\n",
        "consumer_key = ''\n",
        "consumer_secret = ''\n",
        "access_token = ''\n",
        "access_token_secret = ''\n",
        "\n",
        "auth = tweepy.OAuthHandler(consumer_key, consumer_secret)\n",
        "auth.set_access_token(access_token, access_token_secret)\n",
        "\n",
        "api = tweepy.API(auth)"
      ],
      "execution_count": null,
      "outputs": []
    },
    {
      "cell_type": "code",
      "metadata": {
        "id": "DVJzlK1RLbkX"
      },
      "source": [
        "# function to get all tweets for specific user\n",
        "def get_all_tweets(screen_name):\n",
        "\n",
        "\t# initialize a list to hold all the tweepy Tweets\n",
        "\talltweets = []\t\n",
        "\t\n",
        "\t# make initial request for most recent tweets (200 is the maximum allowed count)\n",
        "\tnew_tweets = api.user_timeline(screen_name = screen_name,count=200)\n",
        "\t\n",
        "\t# save most recent tweets\n",
        "\talltweets.extend(new_tweets)\n",
        "\t\n",
        "\t# save the id of the oldest tweet less one\n",
        "\toldest = alltweets[-1].id - 1\n",
        "\t\n",
        "\t# keep grabbing tweets until there are no tweets left to grab\n",
        "\twhile len(new_tweets) > 0:\n",
        "\t\tprint(\"getting tweets before %s\" % (oldest))\n",
        "\t\t\n",
        "\t\t# all subsiquent requests use the max_id param to prevent duplicates\n",
        "\t\tnew_tweets = api.user_timeline(screen_name = screen_name,count=200,max_id=oldest)\n",
        "\t\t\n",
        "\t\t# save most recent tweets\n",
        "\t\talltweets.extend(new_tweets)\n",
        "\t\t\n",
        "\t\t# update the id of the oldest tweet less one\n",
        "\t\toldest = alltweets[-1].id - 1\n",
        "\t\t\n",
        "\t\tprint(\"...%s tweets downloaded so far\" % (len(alltweets)))\n",
        "\t\n",
        "\t# transform the tweepy tweets into a 2D array that will populate the csv\t\n",
        "\touttweets = [[tweet.id_str, tweet.created_at, tweet.text, tweet.favorite_count, \n",
        "\t              tweet.in_reply_to_screen_name, tweet.retweeted] for tweet in alltweets]\n",
        "\t\n",
        "\t# write the csv\t\n",
        "\twith open(f'new_{screen_name}_tweets.csv', 'w') as f:\n",
        "\t\twriter = csv.writer(f)\n",
        "\t\twriter.writerow([\"id\",\"created_at\",\"text\",\"likes\",\"in reply to\",\"retweeted\"])\n",
        "\t\twriter.writerows(outtweets)\n",
        "\t\n",
        "\tpass"
      ],
      "execution_count": null,
      "outputs": []
    },
    {
      "cell_type": "code",
      "metadata": {
        "colab": {
          "base_uri": "https://localhost:8080/",
          "height": 35
        },
        "id": "uGq4GZivQ87w",
        "outputId": "d22f437a-ca7b-4030-9d26-08011c793f05"
      },
      "source": [
        "# to check where files will be downloaded to\n",
        "os.getcwd()"
      ],
      "execution_count": null,
      "outputs": [
        {
          "output_type": "execute_result",
          "data": {
            "application/vnd.google.colaboratory.intrinsic+json": {
              "type": "string"
            },
            "text/plain": [
              "'/content'"
            ]
          },
          "metadata": {
            "tags": []
          },
          "execution_count": 4
        }
      ]
    },
    {
      "cell_type": "code",
      "metadata": {
        "colab": {
          "base_uri": "https://localhost:8080/"
        },
        "id": "faDNQtVlMuEu",
        "outputId": "fb8d8622-7c30-4564-d1d8-fe0babc0919d"
      },
      "source": [
        "# main \n",
        "if __name__ == '__main__':\n",
        "\t#pass in the username of the account you want to download\n",
        "\tget_all_tweets(\"TheTechPlatform\")"
      ],
      "execution_count": null,
      "outputs": [
        {
          "output_type": "stream",
          "text": [
            "getting tweets before 1389551319984353280\n",
            "...400 tweets downloaded so far\n",
            "getting tweets before 1380102129243803649\n",
            "...600 tweets downloaded so far\n",
            "getting tweets before 1369260003459145728\n",
            "...800 tweets downloaded so far\n",
            "getting tweets before 1362400788048322559\n",
            "...1000 tweets downloaded so far\n",
            "getting tweets before 1354022404184449023\n",
            "...1200 tweets downloaded so far\n",
            "getting tweets before 1343175181297045506\n",
            "...1400 tweets downloaded so far\n",
            "getting tweets before 1333345719478931456\n",
            "...1600 tweets downloaded so far\n",
            "getting tweets before 1321066805796847617\n",
            "...1800 tweets downloaded so far\n",
            "getting tweets before 1308756816885678079\n",
            "...2000 tweets downloaded so far\n",
            "getting tweets before 1299310653295882241\n",
            "...2200 tweets downloaded so far\n",
            "getting tweets before 1289973063342317568\n",
            "...2400 tweets downloaded so far\n",
            "getting tweets before 1275447330922041345\n",
            "...2600 tweets downloaded so far\n",
            "getting tweets before 1268501757971230719\n",
            "...2800 tweets downloaded so far\n",
            "getting tweets before 1261986810663600127\n",
            "...3000 tweets downloaded so far\n",
            "getting tweets before 1250276446234267649\n",
            "...3200 tweets downloaded so far\n",
            "getting tweets before 1226752798366154751\n",
            "...3250 tweets downloaded so far\n",
            "getting tweets before 1225037584541175808\n",
            "...3250 tweets downloaded so far\n"
          ],
          "name": "stdout"
        }
      ]
    }
  ]
}